{
 "cells": [
  {
   "cell_type": "code",
   "execution_count": 5,
   "id": "6736e1ca-7c47-4b2f-afee-09074b3322bf",
   "metadata": {},
   "outputs": [],
   "source": [
    "import requests\n",
    "from bs4 import BeautifulSoup\n",
    "import csv"
   ]
  },
  {
   "cell_type": "code",
   "execution_count": 6,
   "id": "c0d68af4-d15f-454b-b7b2-2725add03715",
   "metadata": {},
   "outputs": [],
   "source": [
    "def scrape():\n",
    "    url = \"http://quotes.toscrape.com/\"\n",
    "    page = \"/page/1\"\n",
    "    q_data = []\n",
    "    next_page = page\n",
    "    visited = set()\n",
    "\n",
    "    while next_page:\n",
    "        if next_page in visited:\n",
    "            print(f\"Detected loop at {next_page} exiting \")\n",
    "            break\n",
    "        visited.add(next_page)\n",
    "\n",
    "        urli = url + next_page\n",
    "        print(f\"Scrapping {url}\")\n",
    "\n",
    "        try:\n",
    "            response = requests.get(urli,timeout = 5)\n",
    "            response.raise_for_status()\n",
    "        except requests.RequestException as e:\n",
    "            print(f\"Request Falied {e}\")\n",
    "            break\n",
    "        soup =  BeautifulSoup(response.text,'html.parser')\n",
    "        quotes = soup.find_all(\"div\", class_=\"quote\")\n",
    "\n",
    "        if not quotes:\n",
    "            print(f\"No quotes found {url} exiting \")\n",
    "            break\n",
    "        for quote in quotes:\n",
    "            try:\n",
    "                text=quote.find(\"span\",class_=\"text\").get_text(strip=True)\n",
    "                author=quote.find(\"small\",class_=\"author\").get_text(strip=True)\n",
    "                tags=[tag.get_text(strip=True) for tag in quote.find_all(\"a\",class_=\"tag\")]\n",
    "                q_data.append({\n",
    "                    \"Quote\":text,\n",
    "                    \"Author\":author,\n",
    "                    \"Tags\":\",\".join(tags)\n",
    "                })\n",
    "            except AttributeError as e:\n",
    "                print(f\"Error parsing quote block {e}\")\n",
    "                continue \n",
    "            urli=url\n",
    "            next_btn= soup.find(\"li\",class_=\"next\")\n",
    "            next_page = next_btn.find(\"a\")[\"href\"] if next_btn else None\n",
    "    return q_data"
   ]
  },
  {
   "cell_type": "code",
   "execution_count": 7,
   "id": "8b93ca38-97c7-484a-8cd5-ef3f805a8aaf",
   "metadata": {},
   "outputs": [],
   "source": [
    "def gen_csv(data, filename=\"quotes.csv\"):\n",
    "    if not data:\n",
    "        print(\"No data to save.\")\n",
    "        return\n",
    "\n",
    "    try:\n",
    "        with open(filename, \"w\", newline='', encoding='utf-8') as f:\n",
    "            writer = csv.DictWriter(f, fieldnames=[\"Quote\", \"Author\", \"Tags\"])\n",
    "            writer.writeheader()\n",
    "            writer.writerows(data)\n",
    "        print(f\"Saved {len(data)} quotes to {filename}\")\n",
    "    except Exception as e:\n",
    "        print(f\"Failed to save file: {e}\")"
   ]
  },
  {
   "cell_type": "code",
   "execution_count": 8,
   "id": "b47f4c87-c4a3-40b4-b7df-63fe6fe293f2",
   "metadata": {},
   "outputs": [
    {
     "name": "stdout",
     "output_type": "stream",
     "text": [
      "Scrapping http://quotes.toscrape.com/\n",
      "Scrapping http://quotes.toscrape.com/\n",
      "Scrapping http://quotes.toscrape.com/\n",
      "Scrapping http://quotes.toscrape.com/\n",
      "Scrapping http://quotes.toscrape.com/\n",
      "Scrapping http://quotes.toscrape.com/\n",
      "Scrapping http://quotes.toscrape.com/\n",
      "Scrapping http://quotes.toscrape.com/\n",
      "Scrapping http://quotes.toscrape.com/\n",
      "Scrapping http://quotes.toscrape.com/\n",
      "Saved 100 quotes to quotes.csv\n"
     ]
    }
   ],
   "source": [
    "if __name__ == \"__main__\":\n",
    "\n",
    "    scraped = scrape()\n",
    "    gen_csv(scraped)"
   ]
  },
  {
   "cell_type": "code",
   "execution_count": null,
   "id": "61a1b42d-4e66-40e8-82b1-43bf71f859ed",
   "metadata": {},
   "outputs": [],
   "source": []
  }
 ],
 "metadata": {
  "kernelspec": {
   "display_name": "Python 3 (ipykernel)",
   "language": "python",
   "name": "python3"
  },
  "language_info": {
   "codemirror_mode": {
    "name": "ipython",
    "version": 3
   },
   "file_extension": ".py",
   "mimetype": "text/x-python",
   "name": "python",
   "nbconvert_exporter": "python",
   "pygments_lexer": "ipython3",
   "version": "3.13.5"
  }
 },
 "nbformat": 4,
 "nbformat_minor": 5
}
